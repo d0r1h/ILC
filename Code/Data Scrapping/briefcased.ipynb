{
 "cells": [
  {
   "cell_type": "markdown",
   "id": "b74d06d7",
   "metadata": {},
   "source": [
    "Last Access : 21-Mar-2022"
   ]
  },
  {
   "cell_type": "code",
   "execution_count": 1,
   "id": "0dba8fd7-f4c1-4d6a-8fa3-5b120878c079",
   "metadata": {},
   "outputs": [],
   "source": [
    "import re\n",
    "import requests\n",
    "import numpy as np\n",
    "import pandas as pd\n",
    "from bs4 import BeautifulSoup"
   ]
  },
  {
   "cell_type": "code",
   "execution_count": 2,
   "id": "d2797af5",
   "metadata": {},
   "outputs": [],
   "source": [
    "html_element = re.compile(r'<.*?>')"
   ]
  },
  {
   "cell_type": "markdown",
   "id": "655ed3f3-1d0b-4db9-a733-83ed6bd245cc",
   "metadata": {},
   "source": [
    "**For single Case**"
   ]
  },
  {
   "cell_type": "code",
   "execution_count": 29,
   "id": "f274c2fa-e9bc-4693-9a3a-649c83079675",
   "metadata": {},
   "outputs": [],
   "source": [
    "link = \"https://briefcased.in/case-brief/family-law/neelam-gupta-v-s-mahipal-sharan-gupta-another/\""
   ]
  },
  {
   "cell_type": "code",
   "execution_count": 30,
   "id": "203e4785-37d4-4de3-8cd1-b1fea49a0146",
   "metadata": {},
   "outputs": [],
   "source": [
    "data = requests.get(link)\n",
    "soup = BeautifulSoup(data.content, \"html.parser\")"
   ]
  },
  {
   "cell_type": "code",
   "execution_count": 31,
   "id": "fe90e0a6-55c7-4e41-b605-c53a67db6c1b",
   "metadata": {},
   "outputs": [
    {
     "data": {
      "text/plain": [
       "'Neelam Gupta V/S Mahipal Sharan Gupta & Another'"
      ]
     },
     "execution_count": 31,
     "metadata": {},
     "output_type": "execute_result"
    }
   ],
   "source": [
    "title_tag = soup.find('h1', class_ = \"entry-title\")\n",
    "title = title_tag.text\n",
    "title"
   ]
  },
  {
   "cell_type": "code",
   "execution_count": 32,
   "id": "b1e399ad",
   "metadata": {},
   "outputs": [],
   "source": [
    "summary_tag = soup.find('div', class_ = \"entry-content clear\").find_all(['p', 'ol'])"
   ]
  },
  {
   "cell_type": "code",
   "execution_count": 33,
   "id": "b8cc28d2-01da-4713-92dd-763c0903ca5c",
   "metadata": {},
   "outputs": [],
   "source": [
    "summary = ' '.join([html_element.sub('',str(i)) for i in summary_tag])"
   ]
  },
  {
   "cell_type": "code",
   "execution_count": 131,
   "id": "69a7cf5c",
   "metadata": {},
   "outputs": [
    {
     "data": {
      "text/plain": [
       "'https://briefcased.in/wp-content/uploads/2021/05/Shamim_Ara_vs_State_Of_U_P_Anr_on_1_October_2002.pdf'"
      ]
     },
     "execution_count": 131,
     "metadata": {},
     "output_type": "execute_result"
    }
   ],
   "source": [
    "link_tag = soup.find_all('div', class_ = \"entry-content clear\")[0].find_all('a')[-1]\n",
    "case_link.attrs.get('href')"
   ]
  },
  {
   "cell_type": "code",
   "execution_count": 248,
   "id": "1ecf7f02-53f9-4b91-9d8c-0e9acf84beec",
   "metadata": {},
   "outputs": [],
   "source": [
    "titles1, links1, summaries1 = [], [], []\n",
    "titles1.append(title)\n",
    "links1.append(case_link)\n",
    "summaries1.append(summary)"
   ]
  },
  {
   "cell_type": "code",
   "execution_count": 249,
   "id": "d948276b-ec67-43ed-bc04-16ba811fcbab",
   "metadata": {},
   "outputs": [
    {
     "data": {
      "text/html": [
       "<div>\n",
       "<style scoped>\n",
       "    .dataframe tbody tr th:only-of-type {\n",
       "        vertical-align: middle;\n",
       "    }\n",
       "\n",
       "    .dataframe tbody tr th {\n",
       "        vertical-align: top;\n",
       "    }\n",
       "\n",
       "    .dataframe thead th {\n",
       "        text-align: right;\n",
       "    }\n",
       "</style>\n",
       "<table border=\"1\" class=\"dataframe\">\n",
       "  <thead>\n",
       "    <tr style=\"text-align: right;\">\n",
       "      <th></th>\n",
       "      <th>titles</th>\n",
       "      <th>summaries</th>\n",
       "      <th>links</th>\n",
       "    </tr>\n",
       "  </thead>\n",
       "  <tbody>\n",
       "    <tr>\n",
       "      <th>0</th>\n",
       "      <td>Case name: Life Insurance Corporation of India...</td>\n",
       "      <td>BRIEF FACTS AND PROCEDURAL HISTORY: The case t...</td>\n",
       "      <td>https://briefcased.in/wp-content/uploads/2021/...</td>\n",
       "    </tr>\n",
       "  </tbody>\n",
       "</table>\n",
       "</div>"
      ],
      "text/plain": [
       "                                              titles  \\\n",
       "0  Case name: Life Insurance Corporation of India...   \n",
       "\n",
       "                                           summaries  \\\n",
       "0  BRIEF FACTS AND PROCEDURAL HISTORY: The case t...   \n",
       "\n",
       "                                               links  \n",
       "0  https://briefcased.in/wp-content/uploads/2021/...  "
      ]
     },
     "execution_count": 249,
     "metadata": {},
     "output_type": "execute_result"
    }
   ],
   "source": [
    "df = pd.DataFrame(list(zip(titles1, summaries1, links1)), columns =['titles', 'summaries','links'])\n",
    "df"
   ]
  },
  {
   "cell_type": "code",
   "execution_count": 250,
   "id": "b08e3eae-df6a-4204-91d0-e2a284a757d5",
   "metadata": {},
   "outputs": [
    {
     "data": {
      "text/plain": [
       "5147"
      ]
     },
     "execution_count": 250,
     "metadata": {},
     "output_type": "execute_result"
    }
   ],
   "source": [
    "len(df['summaries'][0])"
   ]
  },
  {
   "cell_type": "markdown",
   "id": "a1546113-d3a3-40f4-93f9-3281e1fbc409",
   "metadata": {},
   "source": [
    "-----"
   ]
  },
  {
   "cell_type": "markdown",
   "id": "fe4fb44e-2aca-4995-8203-0b09af5232c1",
   "metadata": {},
   "source": [
    "**For single page but multiple Cases**"
   ]
  },
  {
   "cell_type": "code",
   "execution_count": 313,
   "id": "5b92d561-57a6-445d-8c97-77a0b3d2eebc",
   "metadata": {},
   "outputs": [],
   "source": [
    "page = \"https://briefcased.in/category/case-brief/page/4/\""
   ]
  },
  {
   "cell_type": "code",
   "execution_count": 291,
   "id": "54d7f207-7941-4bf8-84c5-baa77dcaa48b",
   "metadata": {},
   "outputs": [],
   "source": [
    "titles, links, summaries = [], [], []"
   ]
  },
  {
   "cell_type": "code",
   "execution_count": 297,
   "id": "b6950ec9-45a8-4943-bcf2-fce31a96e51d",
   "metadata": {},
   "outputs": [],
   "source": [
    "data = requests.get(page)\n",
    "soup = BeautifulSoup(data.content, \"html.parser\")\n",
    "\n",
    "for i in soup.find('main', class_ = \"site-main\").find_all('article'):\n",
    "    link = i.find('a').attrs.get('href')\n",
    "    \n",
    "    data_1 = requests.get(link)\n",
    "    soup_1 = BeautifulSoup(data_1.content, \"html.parser\")\n",
    "    \n",
    "    title_tag = soup_1.find('figure', class_ = \"wp-block-table\")\n",
    "    title = html_element.sub('',str(title_tag.find('tr')))\n",
    "    \n",
    "    summary_tag = soup_1.find('div', class_ = \"elementor-widget-container\").find('ul').find_all('li')\n",
    "    summary = ' '.join([html_element.sub('',str(i)) for i in summary_tag])\n",
    "    \n",
    "    link_tag = soup_1.find_all('a', class_ = \"elementor-button-link elementor-button elementor-size-sm\")[-1]\n",
    "    case_link = link_tag.attrs.get('href')\n",
    "    \n",
    "    titles.append(title)\n",
    "    summaries.append(summary)\n",
    "    links.append(case_link)"
   ]
  },
  {
   "cell_type": "code",
   "execution_count": 302,
   "id": "70ffeb65-b79c-4c00-8fe6-e34d1081abae",
   "metadata": {},
   "outputs": [
    {
     "data": {
      "text/html": [
       "<div>\n",
       "<style scoped>\n",
       "    .dataframe tbody tr th:only-of-type {\n",
       "        vertical-align: middle;\n",
       "    }\n",
       "\n",
       "    .dataframe tbody tr th {\n",
       "        vertical-align: top;\n",
       "    }\n",
       "\n",
       "    .dataframe thead th {\n",
       "        text-align: right;\n",
       "    }\n",
       "</style>\n",
       "<table border=\"1\" class=\"dataframe\">\n",
       "  <thead>\n",
       "    <tr style=\"text-align: right;\">\n",
       "      <th></th>\n",
       "      <th>titles</th>\n",
       "      <th>summaries</th>\n",
       "      <th>links</th>\n",
       "    </tr>\n",
       "  </thead>\n",
       "  <tbody>\n",
       "    <tr>\n",
       "      <th>0</th>\n",
       "      <td>Case name:The Kerala Agro Industries VS Beta E...</td>\n",
       "      <td>BRIEF FACTS AND PROCEDURAL HISTORY: The facts ...</td>\n",
       "      <td>https://briefcased.in/wp-content/uploads/2021/...</td>\n",
       "    </tr>\n",
       "    <tr>\n",
       "      <th>1</th>\n",
       "      <td>Case name:Suganchand &amp;amp; Co V/S Bhramayya &amp;a...</td>\n",
       "      <td>BRIEF FACTS AND PROCEDURAL HISTORY: There the ...</td>\n",
       "      <td>https://briefcased.in/wp-content/uploads/2021/...</td>\n",
       "    </tr>\n",
       "    <tr>\n",
       "      <th>2</th>\n",
       "      <td>Case name:Sudhir Gopi V Indira Gandhi National...</td>\n",
       "      <td>BRIEF FACTS AND PROCEDURAL HISTORY:Sudhir Gopi...</td>\n",
       "      <td>https://briefcased.in/wp-content/uploads/2021/...</td>\n",
       "    </tr>\n",
       "    <tr>\n",
       "      <th>3</th>\n",
       "      <td>Case name:Sterlite Technologies Limited vs Bha...</td>\n",
       "      <td>BRIEF FACTS AND PROCEDURAL HISTORY: The case o...</td>\n",
       "      <td>https://briefcased.in/wp-content/uploads/2021/...</td>\n",
       "    </tr>\n",
       "    <tr>\n",
       "      <th>4</th>\n",
       "      <td>Case name:STATE OF U.P. AND ORS. Vs. RENUSAGAR...</td>\n",
       "      <td>BRIEF FACTS AND PROCEDURAL HISTORY:Disallowing...</td>\n",
       "      <td>https://briefcased.in/wp-content/uploads/2021/...</td>\n",
       "    </tr>\n",
       "    <tr>\n",
       "      <th>5</th>\n",
       "      <td>Case name:Srl Ranbaxy ltd, noida V/S Assessee</td>\n",
       "      <td>The assessment year 2006-07, the assessee comp...</td>\n",
       "      <td>https://briefcased.in/wp-content/uploads/2021/...</td>\n",
       "    </tr>\n",
       "    <tr>\n",
       "      <th>6</th>\n",
       "      <td>Case name:V. Krishnamurthy V/s M/S Kasthuri&amp;am...</td>\n",
       "      <td>BRIEF FACTS AND PROCEDURAL HISTORY: The materi...</td>\n",
       "      <td>https://briefcased.in/wp-content/uploads/2021/...</td>\n",
       "    </tr>\n",
       "    <tr>\n",
       "      <th>7</th>\n",
       "      <td>Case name:Union Of India V/S Simplex Infrastru...</td>\n",
       "      <td>BRIEF FACTS AND PROCEDURAL HISTORY: The factua...</td>\n",
       "      <td>https://briefcased.in/wp-content/uploads/2021/...</td>\n",
       "    </tr>\n",
       "    <tr>\n",
       "      <th>8</th>\n",
       "      <td>Case name:Union Of India V/S Ogilvy Mather Ltd...</td>\n",
       "      <td>BRIEF FACTS AND PROCEDURAL HISTORY: It is cont...</td>\n",
       "      <td>https://briefcased.in/wp-content/uploads/2021/...</td>\n",
       "    </tr>\n",
       "    <tr>\n",
       "      <th>9</th>\n",
       "      <td>Case name:Union of India v/s BESCO Ltd.</td>\n",
       "      <td>ISSUE AND PROCEDURAL HISTORY: The short questi...</td>\n",
       "      <td>https://briefcased.in/wp-content/uploads/2021/...</td>\n",
       "    </tr>\n",
       "  </tbody>\n",
       "</table>\n",
       "</div>"
      ],
      "text/plain": [
       "                                              titles  \\\n",
       "0  Case name:The Kerala Agro Industries VS Beta E...   \n",
       "1  Case name:Suganchand &amp; Co V/S Bhramayya &a...   \n",
       "2  Case name:Sudhir Gopi V Indira Gandhi National...   \n",
       "3  Case name:Sterlite Technologies Limited vs Bha...   \n",
       "4  Case name:STATE OF U.P. AND ORS. Vs. RENUSAGAR...   \n",
       "5      Case name:Srl Ranbaxy ltd, noida V/S Assessee   \n",
       "6  Case name:V. Krishnamurthy V/s M/S Kasthuri&am...   \n",
       "7  Case name:Union Of India V/S Simplex Infrastru...   \n",
       "8  Case name:Union Of India V/S Ogilvy Mather Ltd...   \n",
       "9            Case name:Union of India v/s BESCO Ltd.   \n",
       "\n",
       "                                           summaries  \\\n",
       "0  BRIEF FACTS AND PROCEDURAL HISTORY: The facts ...   \n",
       "1  BRIEF FACTS AND PROCEDURAL HISTORY: There the ...   \n",
       "2  BRIEF FACTS AND PROCEDURAL HISTORY:Sudhir Gopi...   \n",
       "3  BRIEF FACTS AND PROCEDURAL HISTORY: The case o...   \n",
       "4  BRIEF FACTS AND PROCEDURAL HISTORY:Disallowing...   \n",
       "5  The assessment year 2006-07, the assessee comp...   \n",
       "6  BRIEF FACTS AND PROCEDURAL HISTORY: The materi...   \n",
       "7  BRIEF FACTS AND PROCEDURAL HISTORY: The factua...   \n",
       "8  BRIEF FACTS AND PROCEDURAL HISTORY: It is cont...   \n",
       "9  ISSUE AND PROCEDURAL HISTORY: The short questi...   \n",
       "\n",
       "                                               links  \n",
       "0  https://briefcased.in/wp-content/uploads/2021/...  \n",
       "1  https://briefcased.in/wp-content/uploads/2021/...  \n",
       "2  https://briefcased.in/wp-content/uploads/2021/...  \n",
       "3  https://briefcased.in/wp-content/uploads/2021/...  \n",
       "4  https://briefcased.in/wp-content/uploads/2021/...  \n",
       "5  https://briefcased.in/wp-content/uploads/2021/...  \n",
       "6  https://briefcased.in/wp-content/uploads/2021/...  \n",
       "7  https://briefcased.in/wp-content/uploads/2021/...  \n",
       "8  https://briefcased.in/wp-content/uploads/2021/...  \n",
       "9  https://briefcased.in/wp-content/uploads/2021/...  "
      ]
     },
     "execution_count": 302,
     "metadata": {},
     "output_type": "execute_result"
    }
   ],
   "source": [
    "df1 = pd.DataFrame(list(zip(titles, summaries, links)), columns =['titles', 'summaries','links'])\n",
    "df1"
   ]
  },
  {
   "cell_type": "code",
   "execution_count": 312,
   "id": "c071a578-4f30-4c64-b6d5-dfc0204564c2",
   "metadata": {},
   "outputs": [
    {
     "data": {
      "text/plain": [
       "array(['https://briefcased.in/wp-content/uploads/2021/08/The-Kerala-Agro-Industries-VS-Beta-Engineers-judgement.pdf',\n",
       "       'https://briefcased.in/wp-content/uploads/2021/08/Suganchand-Co-VS-Bhramayya-Co.-judgement.pdf',\n",
       "       'https://briefcased.in/wp-content/uploads/2021/08/Sudhir-Gopi-V-IGNOU-JUDGEMENT.pdf',\n",
       "       'https://briefcased.in/wp-content/uploads/2021/08/sterlite.pdf',\n",
       "       'https://briefcased.in/wp-content/uploads/2021/08/STATE-OF-U.P.-AND-ORS.-Vs.-RENUSAGAR-POWER-co.-AND-OTHERS.pdf',\n",
       "       'https://briefcased.in/wp-content/uploads/2021/08/Srl-Ranbaxy-Ltd-Noida-VS-Assessee-judgement.pdf',\n",
       "       'https://briefcased.in/wp-content/uploads/2021/08/V.-Krishnamurthy-Vs-MS-Kasthuri-Sons-judgement.pdf',\n",
       "       'https://briefcased.in/wp-content/uploads/2021/08/Union-Of-India-VS-Simplex-Infrastructure-Ltd-judgement.pdf',\n",
       "       'https://briefcased.in/wp-content/uploads/2021/08/Union-Of-India-VS-Ogilvy-Mather-Ltd-Anr.-judgement.pdf',\n",
       "       'https://briefcased.in/wp-content/uploads/2021/08/Union-of-India-vs-BESCO-Ltd.-jugdement.pdf'],\n",
       "      dtype=object)"
      ]
     },
     "execution_count": 312,
     "metadata": {},
     "output_type": "execute_result"
    }
   ],
   "source": [
    "df1['links'].values"
   ]
  },
  {
   "cell_type": "markdown",
   "id": "746698b5-7258-4c38-9139-463789b5cb31",
   "metadata": {},
   "source": [
    "-----"
   ]
  },
  {
   "cell_type": "markdown",
   "id": "18041438-71c5-4270-b404-eff3ac7cd7e5",
   "metadata": {},
   "source": [
    "### **For whole website**"
   ]
  },
  {
   "cell_type": "code",
   "execution_count": 36,
   "id": "6d2145f2-ba1e-4e90-9112-18a03237fdbc",
   "metadata": {},
   "outputs": [],
   "source": [
    "all_links = []\n",
    "\n",
    "for i in range(1,21):\n",
    "  all_links.append(f\"https://briefcased.in/category/case-brief/page/{i}/\")"
   ]
  },
  {
   "cell_type": "code",
   "execution_count": 37,
   "id": "7740a76a-6842-4286-8d17-ab0c384996d9",
   "metadata": {},
   "outputs": [
    {
     "name": "stdout",
     "output_type": "stream",
     "text": [
      "Page No: 0\n",
      "Page No: 1\n",
      "Page No: 2\n",
      "Page No: 3\n",
      "Page No: 4\n",
      "Page No: 5\n",
      "Page No: 6\n",
      "Page No: 7\n",
      "Page No: 8\n",
      "Page No: 9\n",
      "Page No: 10\n",
      "Page No: 11\n",
      "Page No: 12\n",
      "Page No: 13\n",
      "Page No: 14\n",
      "Page No: 15\n",
      "Page No: 16\n",
      "Page No: 17\n",
      "Page No: 18\n",
      "Page No: 19\n"
     ]
    }
   ],
   "source": [
    "titles_all,  summaries_all, links_all = [], [], []\n",
    "\n",
    "for page_no, page in enumerate(all_links):\n",
    "    \n",
    "    data = requests.get(page)\n",
    "    soup = BeautifulSoup(data.content, \"html.parser\")\n",
    "    print(f\"Page No: {page_no}\")\n",
    "    \n",
    "    for case_no ,i in enumerate(soup.find('main', class_ = \"site-main\").find_all('article')):\n",
    "        \n",
    "        link = i.find('a').attrs.get('href')\n",
    "\n",
    "        data_1 = requests.get(link)\n",
    "        soup_1 = BeautifulSoup(data_1.content, \"html.parser\")\n",
    "        \n",
    "        try:\n",
    "            title_tag = soup_1.find('h1', class_ = \"entry-title\")\n",
    "            title = title_tag.text\n",
    "        except Exception as e:\n",
    "            try:\n",
    "                title_tag = soup_1.find('figure', class_ = \"wp-block-table\")\n",
    "                title = html_element.sub('',str(title_tag.find('tr')))\n",
    "            except Exception as e:\n",
    "                title = np.NaN\n",
    "                print(f\"{e} --> Page no. {page_no} and case no. {case_no}\")\n",
    "\n",
    "        try:\n",
    "            summary_tag = soup_1.find('div', class_ = \"elementor-widget-container\").find_all(['ul', 'p', 'ol'])\n",
    "            summary = ' '.join([html_element.sub('',str(i)) for i in summary_tag])\n",
    "        except Exception as e:\n",
    "            try:\n",
    "                summary_tag = soup_1.find('div', class_ = \"elementor-widget-container\").find('ul').find_all('li')\n",
    "                summary = ' '.join([html_element.sub('',str(i)) for i in summary_tag])\n",
    "                \n",
    "            except Exception as e:\n",
    "                try:\n",
    "                    summary_tag = soup_1.find('div', class_ = \"entry-content clear\").find_all(['ul', 'p', 'ol'])\n",
    "                    summary = ' '.join([html_element.sub('',str(i)) for i in summary_tag])\n",
    "                except Exception as e:\n",
    "                    summary = np.NaN\n",
    "                    print(f\"{e} --> Page no. {page_no} and case no. {case_no}\")\n",
    "\n",
    "        try:\n",
    "            link_tag = soup_1.find_all('a', class_ = \"elementor-button-link elementor-button elementor-size-sm\")[-1]\n",
    "            case_link = link_tag.attrs.get('href')\n",
    "        except Exception as e:\n",
    "            try:\n",
    "                link_tag = soup.find_all('div', class_ = \"entry-content clear\")[0].find_all('a')[-1]\n",
    "                case_link = link_tag.attrs.get('href')\n",
    "            except Exception as e:\n",
    "                case_link = np.NaN\n",
    "                print(f\"{e} --> Page no. {page_no} and case no. {case_no}\")\n",
    "        \n",
    "        titles_all.append(title)\n",
    "        summaries_all.append(summary)\n",
    "        links_all.append(case_link)"
   ]
  },
  {
   "cell_type": "code",
   "execution_count": null,
   "id": "ceee73ae",
   "metadata": {},
   "outputs": [],
   "source": []
  },
  {
   "cell_type": "code",
   "execution_count": 38,
   "id": "5aeba999-3e97-4142-887d-846ee24fe045",
   "metadata": {},
   "outputs": [
    {
     "data": {
      "text/html": [
       "<div>\n",
       "<style scoped>\n",
       "    .dataframe tbody tr th:only-of-type {\n",
       "        vertical-align: middle;\n",
       "    }\n",
       "\n",
       "    .dataframe tbody tr th {\n",
       "        vertical-align: top;\n",
       "    }\n",
       "\n",
       "    .dataframe thead th {\n",
       "        text-align: right;\n",
       "    }\n",
       "</style>\n",
       "<table border=\"1\" class=\"dataframe\">\n",
       "  <thead>\n",
       "    <tr style=\"text-align: right;\">\n",
       "      <th></th>\n",
       "      <th>titles</th>\n",
       "      <th>summaries</th>\n",
       "      <th>links</th>\n",
       "    </tr>\n",
       "  </thead>\n",
       "  <tbody>\n",
       "    <tr>\n",
       "      <th>0</th>\n",
       "      <td>L.D. JAIKWAL Vs. STATE OF U.P.</td>\n",
       "      <td>No Judge can take a decision which does not di...</td>\n",
       "      <td>https://briefcased.in/wp-content/uploads/2022/...</td>\n",
       "    </tr>\n",
       "    <tr>\n",
       "      <th>1</th>\n",
       "      <td>K.T PAVUNNY &amp; ANR V/S K.T MATHEW</td>\n",
       "      <td>Section 27 (2) provides freedom of action unfe...</td>\n",
       "      <td>https://briefcased.in/wp-content/uploads/2022/...</td>\n",
       "    </tr>\n",
       "    <tr>\n",
       "      <th>2</th>\n",
       "      <td>SWAMY SHRADDANANDA@Murli manohar mishra V/S ST...</td>\n",
       "      <td>“Life after all is full of questions!” BRIEF F...</td>\n",
       "      <td>https://briefcased.in/wp-content/uploads/2022/...</td>\n",
       "    </tr>\n",
       "    <tr>\n",
       "      <th>3</th>\n",
       "      <td>UNION OF INDIA &amp; ANR V/S N K SRIVASTA &amp; ORS</td>\n",
       "      <td>“The courts are not inclined to entertain the ...</td>\n",
       "      <td>https://briefcased.in/wp-content/uploads/2022/...</td>\n",
       "    </tr>\n",
       "    <tr>\n",
       "      <th>4</th>\n",
       "      <td>WAPCOS Ltd. V/S Salma Dam Joint Venture &amp; Anr.</td>\n",
       "      <td>It is not unknown  in commercial world  that  ...</td>\n",
       "      <td>https://briefcased.in/wp-content/uploads/2022/...</td>\n",
       "    </tr>\n",
       "    <tr>\n",
       "      <th>...</th>\n",
       "      <td>...</td>\n",
       "      <td>...</td>\n",
       "      <td>...</td>\n",
       "    </tr>\n",
       "    <tr>\n",
       "      <th>195</th>\n",
       "      <td>Leslie David Isaac vs Bahadur Bapuji Sanjana</td>\n",
       "      <td>Such   unilateral   appointment   of   the Arb...</td>\n",
       "      <td>https://briefcased.in/wp-content/uploads/2021/...</td>\n",
       "    </tr>\n",
       "    <tr>\n",
       "      <th>196</th>\n",
       "      <td>Kesavananda Bharati Sripadagalvaru and Ors V. ...</td>\n",
       "      <td>“Every provision of the Constitution can be am...</td>\n",
       "      <td>https://briefcased.in/wp-content/uploads/2021/...</td>\n",
       "    </tr>\n",
       "    <tr>\n",
       "      <th>197</th>\n",
       "      <td>Justice K.S. Puttaswamy (Retd.) And Anr. V/S U...</td>\n",
       "      <td>The right to privacy is protected as an intrin...</td>\n",
       "      <td>https://briefcased.in/wp-content/uploads/2021/...</td>\n",
       "    </tr>\n",
       "    <tr>\n",
       "      <th>198</th>\n",
       "      <td>Bachan Singh V/s State of Punjab</td>\n",
       "      <td>Each case presents its own distinctive feature...</td>\n",
       "      <td>https://briefcased.in/wp-content/uploads/2021/...</td>\n",
       "    </tr>\n",
       "    <tr>\n",
       "      <th>199</th>\n",
       "      <td>Maneka Gandhi vs Union of India</td>\n",
       "      <td>The tests of reason and justice cannot be abst...</td>\n",
       "      <td>https://briefcased.in/wp-content/uploads/2021/...</td>\n",
       "    </tr>\n",
       "  </tbody>\n",
       "</table>\n",
       "<p>200 rows × 3 columns</p>\n",
       "</div>"
      ],
      "text/plain": [
       "                                                titles  \\\n",
       "0                       L.D. JAIKWAL Vs. STATE OF U.P.   \n",
       "1                     K.T PAVUNNY & ANR V/S K.T MATHEW   \n",
       "2    SWAMY SHRADDANANDA@Murli manohar mishra V/S ST...   \n",
       "3          UNION OF INDIA & ANR V/S N K SRIVASTA & ORS   \n",
       "4       WAPCOS Ltd. V/S Salma Dam Joint Venture & Anr.   \n",
       "..                                                 ...   \n",
       "195       Leslie David Isaac vs Bahadur Bapuji Sanjana   \n",
       "196  Kesavananda Bharati Sripadagalvaru and Ors V. ...   \n",
       "197  Justice K.S. Puttaswamy (Retd.) And Anr. V/S U...   \n",
       "198                   Bachan Singh V/s State of Punjab   \n",
       "199                    Maneka Gandhi vs Union of India   \n",
       "\n",
       "                                             summaries  \\\n",
       "0    No Judge can take a decision which does not di...   \n",
       "1    Section 27 (2) provides freedom of action unfe...   \n",
       "2    “Life after all is full of questions!” BRIEF F...   \n",
       "3    “The courts are not inclined to entertain the ...   \n",
       "4    It is not unknown  in commercial world  that  ...   \n",
       "..                                                 ...   \n",
       "195  Such   unilateral   appointment   of   the Arb...   \n",
       "196  “Every provision of the Constitution can be am...   \n",
       "197  The right to privacy is protected as an intrin...   \n",
       "198  Each case presents its own distinctive feature...   \n",
       "199  The tests of reason and justice cannot be abst...   \n",
       "\n",
       "                                                 links  \n",
       "0    https://briefcased.in/wp-content/uploads/2022/...  \n",
       "1    https://briefcased.in/wp-content/uploads/2022/...  \n",
       "2    https://briefcased.in/wp-content/uploads/2022/...  \n",
       "3    https://briefcased.in/wp-content/uploads/2022/...  \n",
       "4    https://briefcased.in/wp-content/uploads/2022/...  \n",
       "..                                                 ...  \n",
       "195  https://briefcased.in/wp-content/uploads/2021/...  \n",
       "196  https://briefcased.in/wp-content/uploads/2021/...  \n",
       "197  https://briefcased.in/wp-content/uploads/2021/...  \n",
       "198  https://briefcased.in/wp-content/uploads/2021/...  \n",
       "199  https://briefcased.in/wp-content/uploads/2021/...  \n",
       "\n",
       "[200 rows x 3 columns]"
      ]
     },
     "execution_count": 38,
     "metadata": {},
     "output_type": "execute_result"
    }
   ],
   "source": [
    "Final_df = pd.DataFrame(list(zip(titles_all,  summaries_all, links_all)), columns =['titles', 'summaries','links'])\n",
    "Final_df"
   ]
  },
  {
   "cell_type": "code",
   "execution_count": 39,
   "id": "4e8dc8ac",
   "metadata": {},
   "outputs": [
    {
     "data": {
      "text/plain": [
       "(0, 3)"
      ]
     },
     "execution_count": 39,
     "metadata": {},
     "output_type": "execute_result"
    }
   ],
   "source": [
    "Final_df[Final_df.isna().any(axis=1)].shape"
   ]
  },
  {
   "cell_type": "code",
   "execution_count": 40,
   "id": "71f0207f",
   "metadata": {},
   "outputs": [
    {
     "data": {
      "text/html": [
       "<div>\n",
       "<style scoped>\n",
       "    .dataframe tbody tr th:only-of-type {\n",
       "        vertical-align: middle;\n",
       "    }\n",
       "\n",
       "    .dataframe tbody tr th {\n",
       "        vertical-align: top;\n",
       "    }\n",
       "\n",
       "    .dataframe thead th {\n",
       "        text-align: right;\n",
       "    }\n",
       "</style>\n",
       "<table border=\"1\" class=\"dataframe\">\n",
       "  <thead>\n",
       "    <tr style=\"text-align: right;\">\n",
       "      <th></th>\n",
       "      <th>titles</th>\n",
       "      <th>summaries</th>\n",
       "      <th>links</th>\n",
       "    </tr>\n",
       "  </thead>\n",
       "  <tbody>\n",
       "  </tbody>\n",
       "</table>\n",
       "</div>"
      ],
      "text/plain": [
       "Empty DataFrame\n",
       "Columns: [titles, summaries, links]\n",
       "Index: []"
      ]
     },
     "execution_count": 40,
     "metadata": {},
     "output_type": "execute_result"
    }
   ],
   "source": [
    "Final_df[Final_df.isna().any(axis=1)]"
   ]
  },
  {
   "cell_type": "code",
   "execution_count": null,
   "id": "aac5b41a",
   "metadata": {},
   "outputs": [],
   "source": []
  },
  {
   "cell_type": "markdown",
   "id": "2768dc12",
   "metadata": {},
   "source": [
    "cleaning before saving into csv file"
   ]
  },
  {
   "cell_type": "code",
   "execution_count": 41,
   "id": "2b54adbc",
   "metadata": {},
   "outputs": [],
   "source": [
    "Final_df['titles'] = Final_df['titles'].map(lambda x: x.replace('Case name:', ''))\n",
    "Final_df['summaries'] = Final_df['summaries'].map(lambda x: x.replace('BRIEF FACTS AND PROCEDURAL HISTORY:', ''))"
   ]
  },
  {
   "cell_type": "code",
   "execution_count": 42,
   "id": "f6291ca0",
   "metadata": {},
   "outputs": [
    {
     "data": {
      "text/plain": [
       "(200, 3)"
      ]
     },
     "execution_count": 42,
     "metadata": {},
     "output_type": "execute_result"
    }
   ],
   "source": [
    "Final_df.shape"
   ]
  },
  {
   "cell_type": "code",
   "execution_count": 48,
   "id": "47c0f9e9",
   "metadata": {},
   "outputs": [
    {
     "data": {
      "text/html": [
       "<div>\n",
       "<style scoped>\n",
       "    .dataframe tbody tr th:only-of-type {\n",
       "        vertical-align: middle;\n",
       "    }\n",
       "\n",
       "    .dataframe tbody tr th {\n",
       "        vertical-align: top;\n",
       "    }\n",
       "\n",
       "    .dataframe thead th {\n",
       "        text-align: right;\n",
       "    }\n",
       "</style>\n",
       "<table border=\"1\" class=\"dataframe\">\n",
       "  <thead>\n",
       "    <tr style=\"text-align: right;\">\n",
       "      <th></th>\n",
       "      <th>titles</th>\n",
       "      <th>summaries</th>\n",
       "      <th>links</th>\n",
       "    </tr>\n",
       "  </thead>\n",
       "  <tbody>\n",
       "    <tr>\n",
       "      <th>65</th>\n",
       "      <td>Mumthas C V/S Tahsildar</td>\n",
       "      <td>In Principal-Agent relationship, a responsibil...</td>\n",
       "      <td>https://briefcased.in/wp-content/uploads/2021/...</td>\n",
       "    </tr>\n",
       "    <tr>\n",
       "      <th>17</th>\n",
       "      <td>INDIAN COUNCIL FOR ENVIRO-LEGAL ACTION ETC. V/...</td>\n",
       "      <td>The principle “Polluter Pays” has gained almos...</td>\n",
       "      <td>https://briefcased.in/wp-content/uploads/2021/...</td>\n",
       "    </tr>\n",
       "    <tr>\n",
       "      <th>149</th>\n",
       "      <td>Amit Sahni V/s Commissioner of Police and Ors.</td>\n",
       "      <td>While appreciating the existence of the right ...</td>\n",
       "      <td>https://briefcased.in/wp-content/uploads/2021/...</td>\n",
       "    </tr>\n",
       "    <tr>\n",
       "      <th>181</th>\n",
       "      <td>THE STATE OF MADHYA PRADESH AND ANOTHER Vs. BA...</td>\n",
       "      <td>If the statute is silent in respect of one of ...</td>\n",
       "      <td>https://briefcased.in/wp-content/uploads/2021/...</td>\n",
       "    </tr>\n",
       "    <tr>\n",
       "      <th>161</th>\n",
       "      <td>Energy Watchdog V/s Central Electricity Regula...</td>\n",
       "      <td>An unexpected rise in the price of coal will n...</td>\n",
       "      <td>https://briefcased.in/wp-content/uploads/2021/...</td>\n",
       "    </tr>\n",
       "  </tbody>\n",
       "</table>\n",
       "</div>"
      ],
      "text/plain": [
       "                                                titles  \\\n",
       "65                             Mumthas C V/S Tahsildar   \n",
       "17   INDIAN COUNCIL FOR ENVIRO-LEGAL ACTION ETC. V/...   \n",
       "149     Amit Sahni V/s Commissioner of Police and Ors.   \n",
       "181  THE STATE OF MADHYA PRADESH AND ANOTHER Vs. BA...   \n",
       "161  Energy Watchdog V/s Central Electricity Regula...   \n",
       "\n",
       "                                             summaries  \\\n",
       "65   In Principal-Agent relationship, a responsibil...   \n",
       "17   The principle “Polluter Pays” has gained almos...   \n",
       "149  While appreciating the existence of the right ...   \n",
       "181  If the statute is silent in respect of one of ...   \n",
       "161  An unexpected rise in the price of coal will n...   \n",
       "\n",
       "                                                 links  \n",
       "65   https://briefcased.in/wp-content/uploads/2021/...  \n",
       "17   https://briefcased.in/wp-content/uploads/2021/...  \n",
       "149  https://briefcased.in/wp-content/uploads/2021/...  \n",
       "181  https://briefcased.in/wp-content/uploads/2021/...  \n",
       "161  https://briefcased.in/wp-content/uploads/2021/...  "
      ]
     },
     "execution_count": 48,
     "metadata": {},
     "output_type": "execute_result"
    }
   ],
   "source": [
    "Final_df.sample(5)"
   ]
  },
  {
   "cell_type": "code",
   "execution_count": 49,
   "id": "ebdc626b-4bbd-4837-8c21-3da3810e1af0",
   "metadata": {},
   "outputs": [],
   "source": [
    "Final_df.to_csv('briefcased.csv', header=True, index=False)"
   ]
  },
  {
   "cell_type": "code",
   "execution_count": null,
   "id": "6a184b0f",
   "metadata": {},
   "outputs": [],
   "source": []
  },
  {
   "cell_type": "code",
   "execution_count": null,
   "id": "5bd02b4a",
   "metadata": {},
   "outputs": [],
   "source": []
  },
  {
   "cell_type": "code",
   "execution_count": null,
   "id": "afe6ed3e",
   "metadata": {},
   "outputs": [],
   "source": []
  },
  {
   "cell_type": "code",
   "execution_count": null,
   "id": "c1cfc651",
   "metadata": {},
   "outputs": [],
   "source": []
  }
 ],
 "metadata": {
  "kernelspec": {
   "display_name": "Python 3",
   "language": "python",
   "name": "python3"
  },
  "language_info": {
   "codemirror_mode": {
    "name": "ipython",
    "version": 3
   },
   "file_extension": ".py",
   "mimetype": "text/x-python",
   "name": "python",
   "nbconvert_exporter": "python",
   "pygments_lexer": "ipython3",
   "version": "3.8.12"
  }
 },
 "nbformat": 4,
 "nbformat_minor": 5
}
