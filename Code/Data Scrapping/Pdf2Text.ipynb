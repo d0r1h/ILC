{
 "cells": [
  {
   "cell_type": "code",
   "execution_count": null,
   "id": "84d5c8b6",
   "metadata": {},
   "outputs": [],
   "source": [
    "import os\n",
    "from pdfminer import high_level"
   ]
  },
  {
   "cell_type": "code",
   "execution_count": null,
   "id": "2b5deafe",
   "metadata": {},
   "outputs": [],
   "source": [
    "Pdf_path = \"../../Data/Indian Legal Cases/Cases/\"\n",
    "path_to_save =  \"../../Data/Indian Legal Cases/Cases_Text/\""
   ]
  },
  {
   "cell_type": "code",
   "execution_count": null,
   "id": "327fd4c1",
   "metadata": {},
   "outputs": [],
   "source": [
    "def PDF2Text(file):\n",
    "    \n",
    "    filepath = Pdf_path + file\n",
    "    document = high_level.extract_text(filepath)\n",
    "\n",
    "    filename = file.split(\".\")[0]\n",
    "    with open(path_to_save + filename + \".txt\", 'w',  encoding=\"utf-8\") as f:\n",
    "        f.write(document)"
   ]
  },
  {
   "cell_type": "code",
   "execution_count": null,
   "id": "ec144238",
   "metadata": {},
   "outputs": [],
   "source": [
    "for i in os.listdir(Pdf_path):\n",
    "    try:\n",
    "        print(i)\n",
    "        PDF2Text(i)\n",
    "    except Exception as e:\n",
    "        print(e, \"--->\" , i)"
   ]
  },
  {
   "cell_type": "code",
   "execution_count": null,
   "id": "783466aa",
   "metadata": {},
   "outputs": [],
   "source": []
  }
 ],
 "metadata": {
  "kernelspec": {
   "display_name": "Python 3",
   "language": "python",
   "name": "python3"
  },
  "language_info": {
   "codemirror_mode": {
    "name": "ipython",
    "version": 3
   },
   "file_extension": ".py",
   "mimetype": "text/x-python",
   "name": "python",
   "nbconvert_exporter": "python",
   "pygments_lexer": "ipython3",
   "version": "3.8.12"
  }
 },
 "nbformat": 4,
 "nbformat_minor": 5
}
