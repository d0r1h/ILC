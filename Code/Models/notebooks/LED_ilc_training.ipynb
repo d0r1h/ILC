{
 "cells": [
  {
   "cell_type": "markdown",
   "metadata": {},
   "source": [
    "This notebook has been used to train [led-base-ilc](https://huggingface.co/d0r1h/led-base-ilc) model."
   ]
  },
  {
   "cell_type": "code",
   "execution_count": null,
   "metadata": {
    "_cell_guid": "b1076dfc-b9ad-4769-8c92-a6c4dae69d19",
    "_uuid": "8f2839f25d086af736a60e9eeb907d3b93b6e0e5",
    "execution": {
     "iopub.execute_input": "2022-05-05T01:28:11.318224Z",
     "iopub.status.busy": "2022-05-05T01:28:11.31795Z",
     "iopub.status.idle": "2022-05-05T01:28:21.348715Z",
     "shell.execute_reply": "2022-05-05T01:28:21.347793Z",
     "shell.execute_reply.started": "2022-05-05T01:28:11.318195Z"
    }
   },
   "outputs": [],
   "source": [
    "!pip install -U torch datasets transformers sentencepiece rouge_score wandb -qq"
   ]
  },
  {
   "cell_type": "code",
   "execution_count": null,
   "metadata": {
    "execution": {
     "iopub.execute_input": "2022-05-05T01:28:21.351771Z",
     "iopub.status.busy": "2022-05-05T01:28:21.351487Z",
     "iopub.status.idle": "2022-05-05T01:28:28.546008Z",
     "shell.execute_reply": "2022-05-05T01:28:28.545255Z",
     "shell.execute_reply.started": "2022-05-05T01:28:21.351733Z"
    }
   },
   "outputs": [],
   "source": [
    "import wandb\n",
    "import pandas as pd\n",
    "from datasets import load_dataset, load_metric\n",
    "from transformers import AutoTokenizer\n",
    "from transformers import AutoModelForSeq2SeqLM\n",
    "from transformers import Seq2SeqTrainer, Seq2SeqTrainingArguments"
   ]
  },
  {
   "cell_type": "code",
   "execution_count": null,
   "metadata": {
    "execution": {
     "iopub.execute_input": "2022-05-05T01:28:28.547777Z",
     "iopub.status.busy": "2022-05-05T01:28:28.547358Z",
     "iopub.status.idle": "2022-05-05T01:28:36.644162Z",
     "shell.execute_reply": "2022-05-05T01:28:36.643436Z",
     "shell.execute_reply.started": "2022-05-05T01:28:28.547735Z"
    }
   },
   "outputs": [],
   "source": [
    "dataset = load_dataset(\"d0r1h/ILC\")"
   ]
  },
  {
   "cell_type": "code",
   "execution_count": null,
   "metadata": {
    "execution": {
     "iopub.execute_input": "2022-05-05T01:28:36.646636Z",
     "iopub.status.busy": "2022-05-05T01:28:36.646227Z",
     "iopub.status.idle": "2022-05-05T01:28:36.658482Z",
     "shell.execute_reply": "2022-05-05T01:28:36.65761Z",
     "shell.execute_reply.started": "2022-05-05T01:28:36.646597Z"
    }
   },
   "outputs": [],
   "source": [
    "train_dataset = dataset['train'].select(range(1000))\n",
    "val_dataset = dataset['train'].select(range(300))"
   ]
  },
  {
   "cell_type": "code",
   "execution_count": null,
   "metadata": {
    "execution": {
     "iopub.execute_input": "2022-05-05T01:28:36.660317Z",
     "iopub.status.busy": "2022-05-05T01:28:36.65991Z",
     "iopub.status.idle": "2022-05-05T01:28:37.767786Z",
     "shell.execute_reply": "2022-05-05T01:28:37.767094Z",
     "shell.execute_reply.started": "2022-05-05T01:28:36.66028Z"
    }
   },
   "outputs": [],
   "source": [
    "rouge = load_metric(\"rouge\")"
   ]
  },
  {
   "cell_type": "code",
   "execution_count": null,
   "metadata": {
    "execution": {
     "iopub.execute_input": "2022-05-05T01:28:37.769467Z",
     "iopub.status.busy": "2022-05-05T01:28:37.769219Z",
     "iopub.status.idle": "2022-05-05T01:28:52.529841Z",
     "shell.execute_reply": "2022-05-05T01:28:52.529153Z",
     "shell.execute_reply.started": "2022-05-05T01:28:37.769432Z"
    }
   },
   "outputs": [],
   "source": [
    "wandb.login()\n",
    "wandb.init(project=\"ledsum_legal\", entity=\"d0r1h\")"
   ]
  },
  {
   "cell_type": "code",
   "execution_count": null,
   "metadata": {
    "execution": {
     "iopub.execute_input": "2022-05-05T01:28:52.531779Z",
     "iopub.status.busy": "2022-05-05T01:28:52.531309Z",
     "iopub.status.idle": "2022-05-05T01:29:19.082843Z",
     "shell.execute_reply": "2022-05-05T01:29:19.081997Z",
     "shell.execute_reply.started": "2022-05-05T01:28:52.531742Z"
    }
   },
   "outputs": [],
   "source": [
    "tokenizer = AutoTokenizer.from_pretrained(\"allenai/led-base-16384\")\n",
    "led = AutoModelForSeq2SeqLM.from_pretrained(\"allenai/led-base-16384\", gradient_checkpointing=True, use_cache=False)"
   ]
  },
  {
   "cell_type": "code",
   "execution_count": null,
   "metadata": {
    "execution": {
     "iopub.execute_input": "2022-05-05T01:29:19.084654Z",
     "iopub.status.busy": "2022-05-05T01:29:19.08437Z",
     "iopub.status.idle": "2022-05-05T01:29:19.090643Z",
     "shell.execute_reply": "2022-05-05T01:29:19.089813Z",
     "shell.execute_reply.started": "2022-05-05T01:29:19.084615Z"
    }
   },
   "outputs": [],
   "source": [
    "max_input_length = 8192\n",
    "max_output_length = 600\n",
    "batch_size = 2"
   ]
  },
  {
   "cell_type": "code",
   "execution_count": null,
   "metadata": {
    "execution": {
     "iopub.execute_input": "2022-05-05T01:29:19.092445Z",
     "iopub.status.busy": "2022-05-05T01:29:19.092158Z",
     "iopub.status.idle": "2022-05-05T01:29:20.033343Z",
     "shell.execute_reply": "2022-05-05T01:29:20.031962Z",
     "shell.execute_reply.started": "2022-05-05T01:29:19.092411Z"
    }
   },
   "outputs": [],
   "source": [
    "def process_data_to_model_inputs(batch):\n",
    "\n",
    "    inputs = tokenizer(\n",
    "        batch[\"Case\"],\n",
    "        padding=\"max_length\",\n",
    "        truncation=True,\n",
    "        max_length=max_input_length,\n",
    "    )\n",
    "    outputs = tokenizer(\n",
    "        batch[\"Summary\"],\n",
    "        padding=\"max_length\",\n",
    "        truncation=True,\n",
    "        max_length=max_output_length,\n",
    "    )\n",
    "\n",
    "    batch[\"input_ids\"] = inputs.input_ids\n",
    "    batch[\"attention_mask\"] = inputs.attention_mask\n",
    "\n",
    "    batch[\"global_attention_mask\"] = len(batch[\"input_ids\"]) * [\n",
    "        [0 for _ in range(len(batch[\"input_ids\"][0]))] ]\n",
    "    batch[\"global_attention_mask\"][0][0] = 1\n",
    "    batch[\"labels\"] = outputs.input_ids\n",
    "    batch[\"labels\"] = [\n",
    "        [-100 if token == tokenizer.pad_token_id else token for token in labels]\n",
    "        for labels in batch[\"labels\"]]\n",
    "\n",
    "    return batch"
   ]
  },
  {
   "cell_type": "code",
   "execution_count": null,
   "metadata": {
    "execution": {
     "iopub.execute_input": "2022-05-05T01:29:20.045669Z",
     "iopub.status.busy": "2022-05-05T01:29:20.04148Z",
     "iopub.status.idle": "2022-05-05T01:29:36.700276Z",
     "shell.execute_reply": "2022-05-05T01:29:36.699555Z",
     "shell.execute_reply.started": "2022-05-05T01:29:20.045617Z"
    }
   },
   "outputs": [],
   "source": [
    "train_dataset = train_dataset.map(\n",
    "    process_data_to_model_inputs,\n",
    "    batched=True,\n",
    "    batch_size=batch_size,\n",
    "    remove_columns=['Title', 'Summary', 'Case'],\n",
    ")"
   ]
  },
  {
   "cell_type": "code",
   "execution_count": null,
   "metadata": {
    "execution": {
     "iopub.execute_input": "2022-05-05T01:29:36.702116Z",
     "iopub.status.busy": "2022-05-05T01:29:36.701706Z",
     "iopub.status.idle": "2022-05-05T01:29:41.66954Z",
     "shell.execute_reply": "2022-05-05T01:29:41.66884Z",
     "shell.execute_reply.started": "2022-05-05T01:29:36.70207Z"
    }
   },
   "outputs": [],
   "source": [
    "val_dataset = val_dataset.map(\n",
    "    process_data_to_model_inputs,\n",
    "    batched=True,\n",
    "    batch_size=batch_size,\n",
    "    remove_columns=['Title', 'Summary', 'Case'],\n",
    ")"
   ]
  },
  {
   "cell_type": "code",
   "execution_count": null,
   "metadata": {
    "execution": {
     "iopub.execute_input": "2022-05-05T01:29:41.671171Z",
     "iopub.status.busy": "2022-05-05T01:29:41.670901Z",
     "iopub.status.idle": "2022-05-05T01:29:41.681742Z",
     "shell.execute_reply": "2022-05-05T01:29:41.680663Z",
     "shell.execute_reply.started": "2022-05-05T01:29:41.671136Z"
    }
   },
   "outputs": [],
   "source": [
    "train_dataset.set_format(\n",
    "    type=\"torch\",\n",
    "    columns=[\"input_ids\", \"attention_mask\", \"global_attention_mask\", \"labels\"],\n",
    ")\n",
    "val_dataset.set_format(\n",
    "    type=\"torch\",\n",
    "    columns=[\"input_ids\", \"attention_mask\", \"global_attention_mask\", \"labels\"],\n",
    ")"
   ]
  },
  {
   "cell_type": "code",
   "execution_count": null,
   "metadata": {
    "execution": {
     "iopub.execute_input": "2022-05-05T01:29:41.687804Z",
     "iopub.status.busy": "2022-05-05T01:29:41.685612Z",
     "iopub.status.idle": "2022-05-05T01:29:41.808656Z",
     "shell.execute_reply": "2022-05-05T01:29:41.807704Z",
     "shell.execute_reply.started": "2022-05-05T01:29:41.687768Z"
    }
   },
   "outputs": [],
   "source": [
    "led.config.num_beams = 2\n",
    "led.config.max_length = 512\n",
    "led.config.min_length = 100\n",
    "led.config.length_penalty = 2.0\n",
    "led.config.early_stopping = True\n",
    "led.config.no_repeat_ngram_size = 3"
   ]
  },
  {
   "cell_type": "code",
   "execution_count": null,
   "metadata": {
    "execution": {
     "iopub.execute_input": "2022-05-05T01:29:41.810495Z",
     "iopub.status.busy": "2022-05-05T01:29:41.810207Z",
     "iopub.status.idle": "2022-05-05T01:29:41.81992Z",
     "shell.execute_reply": "2022-05-05T01:29:41.819187Z",
     "shell.execute_reply.started": "2022-05-05T01:29:41.810457Z"
    }
   },
   "outputs": [],
   "source": [
    "def compute_metrics(pred):\n",
    "    labels_ids = pred.label_ids\n",
    "    pred_ids = pred.predictions\n",
    "\n",
    "    pred_str = tokenizer.batch_decode(pred_ids, skip_special_tokens=True)\n",
    "    labels_ids[labels_ids == -100] = tokenizer.pad_token_id\n",
    "    label_str = tokenizer.batch_decode(labels_ids, skip_special_tokens=True)\n",
    "\n",
    "    rouge_output = rouge.compute(\n",
    "        predictions=pred_str, references=label_str, rouge_types=[\"rouge2\"]\n",
    "    )[\"rouge2\"].mid\n",
    "\n",
    "    return {\n",
    "        \"rouge2_precision\": round(rouge_output.precision, 4),\n",
    "        \"rouge2_recall\": round(rouge_output.recall, 4),\n",
    "        \"rouge2_fmeasure\": round(rouge_output.fmeasure, 4),\n",
    "    }"
   ]
  },
  {
   "cell_type": "code",
   "execution_count": null,
   "metadata": {
    "execution": {
     "iopub.execute_input": "2022-05-05T01:29:41.82191Z",
     "iopub.status.busy": "2022-05-05T01:29:41.821557Z",
     "iopub.status.idle": "2022-05-05T01:29:41.907534Z",
     "shell.execute_reply": "2022-05-05T01:29:41.90692Z",
     "shell.execute_reply.started": "2022-05-05T01:29:41.821802Z"
    }
   },
   "outputs": [],
   "source": [
    "training_args = Seq2SeqTrainingArguments(\n",
    "    predict_with_generate=True,\n",
    "    evaluation_strategy=\"steps\",\n",
    "    per_device_train_batch_size=batch_size,\n",
    "    per_device_eval_batch_size=batch_size,\n",
    "    fp16=True,\n",
    "    output_dir=\"./\",\n",
    "    logging_steps=5,\n",
    "    eval_steps=10,\n",
    "    save_steps=10,\n",
    "    save_total_limit=2,\n",
    "    gradient_accumulation_steps=4,\n",
    "    num_train_epochs=1,\n",
    "    report_to=\"wandb\",\n",
    ")"
   ]
  },
  {
   "cell_type": "code",
   "execution_count": null,
   "metadata": {
    "execution": {
     "iopub.execute_input": "2022-05-05T01:29:41.913354Z",
     "iopub.status.busy": "2022-05-05T01:29:41.911391Z",
     "iopub.status.idle": "2022-05-05T01:29:44.212247Z",
     "shell.execute_reply": "2022-05-05T01:29:44.211567Z",
     "shell.execute_reply.started": "2022-05-05T01:29:41.913316Z"
    }
   },
   "outputs": [],
   "source": [
    "trainer = Seq2SeqTrainer(\n",
    "            model=led,\n",
    "            tokenizer=tokenizer,\n",
    "            args=training_args,\n",
    "            compute_metrics=compute_metrics,\n",
    "            train_dataset=train_dataset,\n",
    "            eval_dataset=val_dataset,\n",
    ")"
   ]
  },
  {
   "cell_type": "code",
   "execution_count": null,
   "metadata": {
    "execution": {
     "iopub.execute_input": "2022-05-05T01:29:44.213793Z",
     "iopub.status.busy": "2022-05-05T01:29:44.21348Z",
     "iopub.status.idle": "2022-05-05T12:42:14.629361Z",
     "shell.execute_reply": "2022-05-05T12:42:14.627818Z",
     "shell.execute_reply.started": "2022-05-05T01:29:44.213747Z"
    }
   },
   "outputs": [],
   "source": [
    "trainer.train()"
   ]
  }
 ],
 "metadata": {
  "kernelspec": {
   "display_name": "Python 3 (ipykernel)",
   "language": "python",
   "name": "python3"
  },
  "language_info": {
   "codemirror_mode": {
    "name": "ipython",
    "version": 3
   },
   "file_extension": ".py",
   "mimetype": "text/x-python",
   "name": "python",
   "nbconvert_exporter": "python",
   "pygments_lexer": "ipython3",
   "version": "3.8.12"
  }
 },
 "nbformat": 4,
 "nbformat_minor": 4
}
